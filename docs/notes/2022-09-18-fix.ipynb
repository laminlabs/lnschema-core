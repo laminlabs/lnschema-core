{
 "cells": [
  {
   "cell_type": "markdown",
   "metadata": {},
   "source": [
    "# Fix population of storage & user"
   ]
  },
  {
   "cell_type": "code",
   "execution_count": null,
   "metadata": {},
   "outputs": [],
   "source": [
    "from nbproject import header\n",
    "\n",
    "header()"
   ]
  },
  {
   "cell_type": "code",
   "execution_count": null,
   "metadata": {},
   "outputs": [],
   "source": [
    "import sqlmodel as sqm\n",
    "import lnschema_core"
   ]
  },
  {
   "cell_type": "code",
   "execution_count": null,
   "metadata": {},
   "outputs": [],
   "source": [
    "engine = sqm.create_engine(\"sqlite:///../../tests/testdb.lndb\")"
   ]
  },
  {
   "cell_type": "code",
   "execution_count": null,
   "metadata": {},
   "outputs": [],
   "source": [
    "from lnschema_core._timestamps import CreatedAt, UpdatedAt\n",
    "from datetime import datetime as datetime\n",
    "from typing import Optional\n",
    "from sqlmodel import Field, ForeignKeyConstraint, SQLModel, UniqueConstraint\n",
    "from lnschema_core import id as idg"
   ]
  },
  {
   "cell_type": "code",
   "execution_count": null,
   "metadata": {},
   "outputs": [],
   "source": [
    "with sqm.Session(engine) as session:\n",
    "    session.add(lnschema_core.storage(root=\"testdb\"))\n",
    "    session.commit()"
   ]
  },
  {
   "cell_type": "code",
   "execution_count": null,
   "metadata": {},
   "outputs": [],
   "source": [
    "with sqm.Session(engine) as session:\n",
    "    storage = session.get(lnschema_core.storage, \"V2NSFBdCfP\")\n",
    "    storage.type = \"local\"\n",
    "    session.add(storage)\n",
    "    session.commit()"
   ]
  },
  {
   "cell_type": "code",
   "execution_count": null,
   "metadata": {},
   "outputs": [],
   "source": [
    "with sqm.Session(engine) as session:\n",
    "    stmt = sqm.select(lnschema_core.dobject)\n",
    "    result = session.exec(stmt).all()\n",
    "    for dobject in result:\n",
    "        dobject.storage_id = \"V2NSFBdCfP\"\n",
    "        session.add(dobject)\n",
    "    session.commit()"
   ]
  },
  {
   "cell_type": "code",
   "execution_count": null,
   "metadata": {},
   "outputs": [],
   "source": [
    "with sqm.Session(engine) as session:\n",
    "    stmt = sqm.select(lnschema_core.user)\n",
    "    result = session.exec(stmt).all()\n",
    "    for user in result:\n",
    "        user.handle = \"test-user1\"\n",
    "        session.add(user)\n",
    "    session.commit()"
   ]
  }
 ],
 "metadata": {
  "kernelspec": {
   "display_name": "Python 3.9.12 ('base1')",
   "language": "python",
   "name": "python3"
  },
  "language_info": {
   "codemirror_mode": {
    "name": "ipython",
    "version": 3
   },
   "file_extension": ".py",
   "mimetype": "text/x-python",
   "name": "python",
   "nbconvert_exporter": "python",
   "pygments_lexer": "ipython3",
   "version": "3.9.12"
  },
  "nbproject": {
   "id": "nwb4hugf9o8w",
   "parent": null,
   "pypackage": null,
   "time_init": "2022-09-18T14:09:36.455229+00:00",
   "version": "draft"
  },
  "vscode": {
   "interpreter": {
    "hash": "2775e555cdc2d728c54aa22130c79afb1fa4da64f22f2fc6dcc2aa346c4e0672"
   }
  }
 },
 "nbformat": 4,
 "nbformat_minor": 2
}
