{
 "cells": [
  {
   "cell_type": "markdown",
   "id": "2ee23aa0-22e1-45ae-8fe4-392702f95de5",
   "metadata": {},
   "source": [
    "# Tables"
   ]
  },
  {
   "cell_type": "markdown",
   "id": "fc3e116f",
   "metadata": {},
   "source": [
    "For guidance on using the schema module, see the documentation of [lamindb](https://lamin.ai/docs/lamindb)."
   ]
  },
  {
   "cell_type": "code",
   "execution_count": null,
   "id": "9667c97e-8f2f-4fc9-9a97-9eed0361919d",
   "metadata": {},
   "outputs": [],
   "source": [
    "from lnschema_core import (\n",
    "    DObject,\n",
    "    Run,\n",
    "    Notebook,\n",
    "    Usage,\n",
    "    User,\n",
    "    Storage,\n",
    ")"
   ]
  },
  {
   "cell_type": "markdown",
   "id": "c9c47fdf",
   "metadata": {
    "tags": []
   },
   "source": [
    "## Create a DObject record from fields (Not for ingesting data!)\n",
    "\n",
    "See [guide](https://lamin.ai/docs/db/guide/ingest) for data ingestion."
   ]
  },
  {
   "cell_type": "code",
   "execution_count": null,
   "id": "84da28ef-0b63-451f-a940-6c41f24b87e4",
   "metadata": {},
   "outputs": [],
   "source": [
    "dobject = DObject(name=\"mydobject\", run_id=\"vaf\", storage_id=\"g4s\")\n",
    "\n",
    "dobject"
   ]
  },
  {
   "cell_type": "code",
   "execution_count": null,
   "id": "7b47e5fe",
   "metadata": {},
   "outputs": [],
   "source": [
    "assert dobject.id is not None"
   ]
  },
  {
   "cell_type": "markdown",
   "id": "96f1e83c",
   "metadata": {},
   "source": [
    "## Run, Notebook, User, Usage, Storage"
   ]
  },
  {
   "cell_type": "code",
   "execution_count": null,
   "id": "7efc8406",
   "metadata": {},
   "outputs": [],
   "source": [
    "Run()"
   ]
  },
  {
   "cell_type": "code",
   "execution_count": null,
   "id": "89141bf7-4d8c-4baa-a15d-a76f829097e0",
   "metadata": {},
   "outputs": [],
   "source": [
    "Notebook(name=\"Tables\")"
   ]
  },
  {
   "cell_type": "code",
   "execution_count": null,
   "id": "4f06df7f-a34f-4832-a6b7-238c4a72382e",
   "metadata": {},
   "outputs": [],
   "source": [
    "User(id=\"aev\", email=\"test@gmail.com\", handle=\"test\")"
   ]
  },
  {
   "cell_type": "code",
   "execution_count": null,
   "id": "86ab44aa-0c5f-4b67-9196-fda8e0b6bb3b",
   "metadata": {},
   "outputs": [],
   "source": [
    "Usage(type=\"ingest\", dobject_id=dobject.id)"
   ]
  }
 ],
 "metadata": {
  "kernelspec": {
   "display_name": "Python 3.9.12 ('base1')",
   "language": "python",
   "name": "python3"
  },
  "language_info": {
   "codemirror_mode": {
    "name": "ipython",
    "version": 3
   },
   "file_extension": ".py",
   "mimetype": "text/x-python",
   "name": "python",
   "nbconvert_exporter": "python",
   "pygments_lexer": "ipython3",
   "version": "3.9.12"
  }
 },
 "nbformat": 4,
 "nbformat_minor": 5
}
