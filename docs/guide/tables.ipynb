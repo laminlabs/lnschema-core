{
 "cells": [
  {
   "cell_type": "markdown",
   "id": "2ee23aa0-22e1-45ae-8fe4-392702f95de5",
   "metadata": {},
   "source": [
    "# Tables"
   ]
  },
  {
   "cell_type": "markdown",
   "id": "fc3e116f",
   "metadata": {},
   "source": [
    "For guidance on using the schema module, see the documentation of [lamindb](https://lamin.ai/docs/lamindb)."
   ]
  },
  {
   "cell_type": "code",
   "execution_count": null,
   "id": "9667c97e-8f2f-4fc9-9a97-9eed0361919d",
   "metadata": {},
   "outputs": [],
   "source": [
    "from lnschema_core import (\n",
    "    DObject,\n",
    "    DTransform,\n",
    "    DTransformIn,\n",
    "    Jupynb,\n",
    "    Usage,\n",
    "    User,\n",
    "    Storage,\n",
    ")"
   ]
  },
  {
   "cell_type": "code",
   "execution_count": null,
   "id": "f62cc02e-c0a9-4f55-b806-ec851659d56d",
   "metadata": {},
   "outputs": [],
   "source": [
    "DObject()"
   ]
  },
  {
   "cell_type": "code",
   "execution_count": null,
   "id": "7efc8406",
   "metadata": {},
   "outputs": [],
   "source": [
    "DTransform()"
   ]
  },
  {
   "cell_type": "code",
   "execution_count": null,
   "id": "89141bf7-4d8c-4baa-a15d-a76f829097e0",
   "metadata": {},
   "outputs": [],
   "source": [
    "Jupynb()"
   ]
  },
  {
   "cell_type": "code",
   "execution_count": null,
   "id": "4f06df7f-a34f-4832-a6b7-238c4a72382e",
   "metadata": {},
   "outputs": [],
   "source": [
    "User()"
   ]
  },
  {
   "cell_type": "code",
   "execution_count": null,
   "id": "86ab44aa-0c5f-4b67-9196-fda8e0b6bb3b",
   "metadata": {},
   "outputs": [],
   "source": [
    "Usage()"
   ]
  },
  {
   "cell_type": "code",
   "execution_count": null,
   "id": "99849626",
   "metadata": {},
   "outputs": [],
   "source": [
    "Storage()"
   ]
  }
 ],
 "metadata": {
  "kernelspec": {
   "display_name": "Python 3 (ipykernel)",
   "language": "python",
   "name": "python3"
  },
  "language_info": {
   "codemirror_mode": {
    "name": "ipython",
    "version": 3
   },
   "file_extension": ".py",
   "mimetype": "text/x-python",
   "name": "python",
   "nbconvert_exporter": "python",
   "pygments_lexer": "ipython3",
   "version": "3.9.12"
  },
  "vscode": {
   "interpreter": {
    "hash": "2775e555cdc2d728c54aa22130c79afb1fa4da64f22f2fc6dcc2aa346c4e0672"
   }
  }
 },
 "nbformat": 4,
 "nbformat_minor": 5
}
