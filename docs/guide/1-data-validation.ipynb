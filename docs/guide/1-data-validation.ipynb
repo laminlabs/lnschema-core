{
 "cells": [
  {
   "cell_type": "markdown",
   "metadata": {},
   "source": [
    "# Data validation with ORMs"
   ]
  },
  {
   "cell_type": "markdown",
   "metadata": {},
   "source": [
    "LaminDB implements data validation at the ORM level by fully integrating the SQLModel ORM with pydantic type checking.\n",
    "\n",
    "Let's take a look at data validation behavior in LaminDB."
   ]
  },
  {
   "cell_type": "code",
   "execution_count": null,
   "metadata": {},
   "outputs": [],
   "source": [
    "import lamindb as ln\n",
    "import lamindb.schema as lns\n",
    "import pytest\n",
    "from pydantic import ValidationError"
   ]
  },
  {
   "cell_type": "markdown",
   "metadata": {},
   "source": [
    "## Missing Field Error"
   ]
  },
  {
   "cell_type": "markdown",
   "metadata": {},
   "source": [
    "Let's create a `User` instance without the required `email` and `handle` fields."
   ]
  },
  {
   "cell_type": "code",
   "execution_count": null,
   "metadata": {},
   "outputs": [],
   "source": [
    "with pytest.raises(ValidationError) as e:\n",
    "    exception = e\n",
    "    user_missing = lns.User(id=\"123\")\n",
    "print(exception.exconly())"
   ]
  },
  {
   "cell_type": "markdown",
   "metadata": {},
   "source": [
    "## Simple Type Error"
   ]
  },
  {
   "cell_type": "markdown",
   "metadata": {},
   "source": [
    "Let's create a `Transform` instance with the wrong type for the optional field `name`."
   ]
  },
  {
   "cell_type": "code",
   "execution_count": null,
   "metadata": {},
   "outputs": [],
   "source": [
    "from datetime import datetime\n",
    "\n",
    "with pytest.raises(ValidationError) as e:\n",
    "    exception = e\n",
    "    invalid_transform = ln.Transform(name=datetime.now())\n",
    "print(exception.exconly())"
   ]
  },
  {
   "cell_type": "markdown",
   "metadata": {},
   "source": [
    "## Simple Categorical Error"
   ]
  },
  {
   "cell_type": "markdown",
   "metadata": {},
   "source": [
    "Let's pass an invalid categorical to the `type` field in `Usage`, which only accepts the values 'ingest', 'insert', 'select', 'update', 'delete', 'load', and 'link'."
   ]
  },
  {
   "cell_type": "code",
   "execution_count": null,
   "metadata": {},
   "outputs": [],
   "source": [
    "from lnschema_core._core import SQLModel\n",
    "from lnschema_core.dev.type import usage as event_type\n",
    "from sqlmodel import Field"
   ]
  },
  {
   "cell_type": "code",
   "execution_count": null,
   "metadata": {},
   "outputs": [],
   "source": [
    "class Usage(SQLModel, table=True):  # type: ignore\n",
    "    id: str = Field(default=None, primary_key=True)\n",
    "    type: event_type = Field(nullable=False, index=True)"
   ]
  },
  {
   "cell_type": "code",
   "execution_count": null,
   "metadata": {},
   "outputs": [],
   "source": [
    "assert Usage(type=\"ingest\")"
   ]
  },
  {
   "cell_type": "code",
   "execution_count": null,
   "metadata": {},
   "outputs": [],
   "source": [
    "with pytest.raises(ValidationError) as e:\n",
    "    exception = e\n",
    "    invalid_usage = Usage(type=\"invalid categorical\")\n",
    "print(exception.exconly())"
   ]
  },
  {
   "cell_type": "markdown",
   "metadata": {
    "tags": []
   },
   "source": [
    "## Special Cases in Data Validation"
   ]
  },
  {
   "cell_type": "markdown",
   "metadata": {},
   "source": [
    "Data validation with the LaminDB ORM mirrors the standard Pydantic behavior, including variable casting (see example #1 below) and extra field behaviors (see example #2 below). These can be changed through Pydantic's configuration.\n",
    "\n",
    "The only difference in behavior between LaminDB and Pydantic is strict type checking for `Relationship` fields (see example #3 below), which is implemented in LaminDB."
   ]
  },
  {
   "cell_type": "markdown",
   "metadata": {
    "tags": []
   },
   "source": [
    "## Special Cases in Data Validation #1: Variable Casting"
   ]
  },
  {
   "cell_type": "markdown",
   "metadata": {},
   "source": [
    "LaminDB mirrors Pydantic's default behavior of casting input variables to conform to field types (see details in [Pydantic's documentation](https://docs.pydantic.dev/usage/models/#data-conversion)).\n",
    "\n",
    "Let's take a look at the default behavior by creating transform instances with `int` and `bool` inputs to the `name` field, which is string-typed in the schema."
   ]
  },
  {
   "cell_type": "code",
   "execution_count": null,
   "metadata": {},
   "outputs": [],
   "source": [
    "# Name (int) is cast to str\n",
    "transform_name_int_to_str = ln.Transform(name=1)\n",
    "type(transform_name_int_to_str.name)"
   ]
  },
  {
   "cell_type": "code",
   "execution_count": null,
   "metadata": {},
   "outputs": [],
   "source": [
    "# Name (bool) is cast to str\n",
    "transform_name_bool_to_str = ln.Transform(name=True)\n",
    "type(transform_name_int_to_str.name)"
   ]
  },
  {
   "cell_type": "markdown",
   "metadata": {
    "tags": []
   },
   "source": [
    "## Special Cases in Data Validation #2: Extra Fields"
   ]
  },
  {
   "cell_type": "markdown",
   "metadata": {},
   "source": [
    "LaminDB also mirror's Pydantic default behavior of accepting extra fields not defined in the schema."
   ]
  },
  {
   "cell_type": "code",
   "execution_count": null,
   "metadata": {},
   "outputs": [],
   "source": [
    "# No error is raised for the extra field\n",
    "transform = ln.Transform(name=\"Test\", extra_field=\"This field is not defined in the schema\")"
   ]
  },
  {
   "cell_type": "markdown",
   "metadata": {
    "tags": []
   },
   "source": [
    "## Special Cases in Data Validation #3: Strict Type Checking for Relationship"
   ]
  },
  {
   "cell_type": "markdown",
   "metadata": {},
   "source": [
    "Differently from Pydantic, LaminDB enforces strict type checking for `Relationship` fields.\n",
    "\n",
    "Below is a simple example of Pydantic's lenient type checking for `Relationship` fields. Rather than enforcing the `Car` type in the `Wheel.car` field, it only enforces type-checking on the attributes of the input object."
   ]
  },
  {
   "cell_type": "code",
   "execution_count": null,
   "metadata": {},
   "outputs": [],
   "source": [
    "from sqlmodel import SQLModel, Field, Relationship\n",
    "from typing import Optional, List\n",
    "\n",
    "\n",
    "class Car(SQLModel, table=False):\n",
    "    id: str = Field(primary_key=True, default=None)\n",
    "    name: str\n",
    "\n",
    "    wheels: List[\"Wheel\"] = Relationship()\n",
    "\n",
    "\n",
    "class Wheel(SQLModel, table=False):\n",
    "    id: str = Field(primary_key=True, default=None)\n",
    "    name: str\n",
    "\n",
    "    car: Optional[\"Car\"] = Relationship()\n",
    "\n",
    "\n",
    "class Bird(SQLModel, table=False):\n",
    "    id: str = Field(primary_key=True, default=None)\n",
    "    name: str"
   ]
  },
  {
   "cell_type": "code",
   "execution_count": null,
   "metadata": {},
   "outputs": [],
   "source": [
    "# Pydantic does not raise a validation error for wrong type in the car field\n",
    "wheel = Wheel(name=\"Test Wheel\", car=Bird(name=\"Test\"))"
   ]
  },
  {
   "cell_type": "markdown",
   "metadata": {},
   "source": [
    "LaminDB, on the other hand, enforces strict type checking for `Relationships`."
   ]
  },
  {
   "cell_type": "code",
   "execution_count": null,
   "metadata": {},
   "outputs": [],
   "source": [
    "with pytest.raises(TypeError) as e:\n",
    "    exception = e\n",
    "    run = lns.Run(name=\"Test Run\", transform=Bird(name=\"This is not a Transform\"))\n",
    "print(exception.exconly())"
   ]
  },
  {
   "cell_type": "markdown",
   "metadata": {},
   "source": [
    "## Appendix"
   ]
  },
  {
   "cell_type": "code",
   "execution_count": null,
   "metadata": {},
   "outputs": [],
   "source": [
    "import nbproject as nb\n",
    "import pytest\n",
    "from lnschema_core import File, Transform, Run\n",
    "from lnschema_core.dev.sqlmodel import SQLModelPrefix\n",
    "from sqlmodel import Relationship, Field, ForeignKeyConstraint\n",
    "from typing import Optional\n",
    "from pydantic import ValidationError"
   ]
  },
  {
   "cell_type": "code",
   "execution_count": null,
   "metadata": {},
   "outputs": [],
   "source": [
    "# non-optional created_at field is correctly ignored (server-side autopopulation)\n",
    "transform = Transform(name=\"My test pipeline\")"
   ]
  },
  {
   "cell_type": "code",
   "execution_count": null,
   "metadata": {},
   "outputs": [],
   "source": [
    "# invalid type for created_at field is correctly raised\n",
    "with pytest.raises(ValidationError):\n",
    "    transform = Transform(created_at=\"invalid type\")"
   ]
  },
  {
   "cell_type": "code",
   "execution_count": null,
   "metadata": {},
   "outputs": [],
   "source": [
    "# relationship validation works correctly (no error raised for valid input)\n",
    "run = Run(name=\"Test Run\", transform=transform)"
   ]
  },
  {
   "cell_type": "code",
   "execution_count": null,
   "metadata": {},
   "outputs": [],
   "source": [
    "# relationship validation works correctly (ORM functionality is maintained)\n",
    "assert run.transform"
   ]
  },
  {
   "cell_type": "code",
   "execution_count": null,
   "metadata": {},
   "outputs": [],
   "source": [
    "# relationship validation works correctly (strict type checking, non-model)\n",
    "with pytest.raises(TypeError):\n",
    "    run = Run(name=\"Test Run\", transform=\"invalid transform\")"
   ]
  },
  {
   "cell_type": "code",
   "execution_count": null,
   "metadata": {},
   "outputs": [],
   "source": [
    "# relationship validation works correctly (strict type checking, valid model)\n",
    "with pytest.raises(TypeError):\n",
    "    file = File(source=Transform(name=\"My test pipeline\"))"
   ]
  },
  {
   "cell_type": "code",
   "execution_count": null,
   "metadata": {},
   "outputs": [],
   "source": [
    "# relationship validation works correctly (strict type checking, resolved ForwardRef)\n",
    "class FileRel(SQLModelPrefix, table=True):\n",
    "    id: str = Field(primary_key=True, default=None)\n",
    "    file_id: Optional[str] = Field(foreign_key=\"core.file.id\", index=True)\n",
    "    file: Optional[\"File\"] = Relationship()\n",
    "\n",
    "\n",
    "file = File(name=\"myfile\", source_id=\"raf\", storage_id=\"g4s\")\n",
    "file_real = FileRel(file=file)"
   ]
  },
  {
   "cell_type": "code",
   "execution_count": null,
   "metadata": {},
   "outputs": [],
   "source": [
    "# auto-population of required fk constraints works correctly\n",
    "class FileRelFK(SQLModelPrefix, table=True):\n",
    "    id: str = Field(primary_key=True, default=None)\n",
    "    file_id: str = Field(foreign_key=\"core.file.id\", index=True)\n",
    "    file: File = Relationship()\n",
    "\n",
    "\n",
    "file = File(name=\"myfile\", source_id=\"raf\", storage_id=\"g4s\")\n",
    "file_rel = FileRelFK(file=file)\n",
    "\n",
    "\n",
    "# auto-population of required fk constraints works correctly (composite fk)\n",
    "class TransformRelFK(SQLModelPrefix, table=True):\n",
    "    __table_args__ = (ForeignKeyConstraint([\"transform_id\", \"transform_v\"], [\"core.transform.id\", \"core.transform.v\"]),)\n",
    "    id: str = Field(primary_key=True, default=None)\n",
    "    transform_id: str = Field(index=True)\n",
    "    transform_v: str = Field(index=True)\n",
    "    transform: Transform = Relationship()\n",
    "\n",
    "\n",
    "transform = Transform(name=\"mytransform\")\n",
    "transform_rel = TransformRelFK(transform=transform)"
   ]
  },
  {
   "cell_type": "code",
   "execution_count": null,
   "metadata": {},
   "outputs": [],
   "source": [
    "# file validation works correctly (missing field errors are raised even when file is instantiated with custom constructor)\n",
    "with pytest.raises(ValidationError):\n",
    "    file = File(name=\"no data objects\")"
   ]
  },
  {
   "cell_type": "code",
   "execution_count": null,
   "metadata": {},
   "outputs": [],
   "source": [
    "# file validation works correctly (no errors raised when file is conformantly instantiated with custom constructor)\n",
    "file = File(name=\"myfile\", source_id=nb.meta.store.id, storage_id=\"123\")"
   ]
  }
 ],
 "metadata": {
  "kernelspec": {
   "display_name": "Python 3 (ipykernel)",
   "language": "python",
   "name": "python3"
  },
  "language_info": {
   "codemirror_mode": {
    "name": "ipython",
    "version": 3
   },
   "file_extension": ".py",
   "mimetype": "text/x-python",
   "name": "python",
   "nbconvert_exporter": "python",
   "pygments_lexer": "ipython3",
   "version": "3.9.15"
  }
 },
 "nbformat": 4,
 "nbformat_minor": 4
}
