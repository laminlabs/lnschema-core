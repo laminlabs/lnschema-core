{
 "cells": [
  {
   "attachments": {},
   "cell_type": "markdown",
   "metadata": {},
   "source": [
    "# Data validation with ORMs"
   ]
  },
  {
   "attachments": {},
   "cell_type": "markdown",
   "metadata": {},
   "source": [
    "LaminDB implements data validation at the ORM level by fully integrating the SQLModel ORM with pydantic type checking.\n",
    "\n",
    "Let's take a look at data validation behavior in LaminDB."
   ]
  },
  {
   "cell_type": "code",
   "execution_count": null,
   "metadata": {},
   "outputs": [],
   "source": [
    "import lamindb as ln\n",
    "import lamindb.schema as lns\n",
    "import pytest\n",
    "from pydantic import ValidationError"
   ]
  },
  {
   "attachments": {},
   "cell_type": "markdown",
   "metadata": {},
   "source": [
    "## Missing required field"
   ]
  },
  {
   "attachments": {},
   "cell_type": "markdown",
   "metadata": {},
   "source": [
    "Let's create a `User` instance without the required `email` and `handle` fields."
   ]
  },
  {
   "cell_type": "code",
   "execution_count": null,
   "metadata": {},
   "outputs": [],
   "source": [
    "with pytest.raises(ValidationError) as e:\n",
    "    exception = e\n",
    "    user_missing = lns.User(id=\"123\")\n",
    "print(exception.exconly())"
   ]
  },
  {
   "attachments": {},
   "cell_type": "markdown",
   "metadata": {},
   "source": [
    "## Field type error"
   ]
  },
  {
   "attachments": {},
   "cell_type": "markdown",
   "metadata": {},
   "source": [
    "Let's create a `Transform` instance with the wrong type for the optional field `name`."
   ]
  },
  {
   "cell_type": "code",
   "execution_count": null,
   "metadata": {},
   "outputs": [],
   "source": [
    "from datetime import datetime\n",
    "\n",
    "with pytest.raises(ValidationError) as e:\n",
    "    exception = e\n",
    "    invalid_transform = ln.Transform(name=datetime.now())\n",
    "print(exception.exconly())"
   ]
  },
  {
   "attachments": {},
   "cell_type": "markdown",
   "metadata": {},
   "source": [
    "## Invalid categorical"
   ]
  },
  {
   "attachments": {},
   "cell_type": "markdown",
   "metadata": {},
   "source": [
    "Let's pass an invalid categorical to the `type` field in `Usage`, which only accepts the values 'ingest', 'insert', 'select', 'update', 'delete', 'load', and 'link'."
   ]
  },
  {
   "cell_type": "code",
   "execution_count": null,
   "metadata": {},
   "outputs": [],
   "source": [
    "from lnschema_core._core import SQLModel\n",
    "from lnschema_core._types import Usage as UsageType\n",
    "from sqlmodel import Field"
   ]
  },
  {
   "cell_type": "code",
   "execution_count": null,
   "metadata": {},
   "outputs": [],
   "source": [
    "class Usage(SQLModel, table=True):  # type: ignore\n",
    "    id: str = Field(default=None, primary_key=True)\n",
    "    type: UsageType = Field(nullable=False, index=True)"
   ]
  },
  {
   "cell_type": "code",
   "execution_count": null,
   "metadata": {},
   "outputs": [],
   "source": [
    "assert Usage(type=\"ingest\")"
   ]
  },
  {
   "cell_type": "code",
   "execution_count": null,
   "metadata": {},
   "outputs": [],
   "source": [
    "with pytest.raises(ValidationError) as e:\n",
    "    exception = e\n",
    "    invalid_usage = Usage(type=\"invalid categorical\")\n",
    "print(exception.exconly())"
   ]
  },
  {
   "attachments": {},
   "cell_type": "markdown",
   "metadata": {
    "tags": []
   },
   "source": [
    "## Special cases"
   ]
  },
  {
   "attachments": {},
   "cell_type": "markdown",
   "metadata": {},
   "source": [
    "Data validation with the LaminDB ORM mirrors the standard Pydantic behavior, including variable casting (see example #1 below) and extra field behaviors (see example #2 below). These can be changed through Pydantic's configuration.\n",
    "\n",
    "The only difference in behavior between LaminDB and Pydantic is strict type checking for `Relationship` fields (see example #3 below), which is implemented in LaminDB."
   ]
  },
  {
   "attachments": {},
   "cell_type": "markdown",
   "metadata": {
    "tags": []
   },
   "source": [
    "### Argument casting"
   ]
  },
  {
   "attachments": {},
   "cell_type": "markdown",
   "metadata": {},
   "source": [
    "LaminDB mirrors Pydantic's default behavior of casting input variables to conform to field types (see details in [Pydantic's documentation](https://docs.pydantic.dev/usage/models/#data-conversion)).\n",
    "\n",
    "Let's take a look at the default behavior by creating transform instances with `int` and `bool` inputs to the `name` field, which is string-typed in the schema."
   ]
  },
  {
   "cell_type": "code",
   "execution_count": null,
   "metadata": {},
   "outputs": [],
   "source": [
    "# Name (int) is cast to str\n",
    "transform_name_int_to_str = ln.Transform(name=1)\n",
    "type(transform_name_int_to_str.name)"
   ]
  },
  {
   "cell_type": "code",
   "execution_count": null,
   "metadata": {},
   "outputs": [],
   "source": [
    "# Name (bool) is cast to str\n",
    "transform_name_bool_to_str = ln.Transform(name=True)\n",
    "type(transform_name_int_to_str.name)"
   ]
  },
  {
   "attachments": {},
   "cell_type": "markdown",
   "metadata": {
    "tags": []
   },
   "source": [
    "### Extra fields"
   ]
  },
  {
   "attachments": {},
   "cell_type": "markdown",
   "metadata": {},
   "source": [
    "LaminDB also mirror's Pydantic default behavior of accepting extra fields not defined in the schema."
   ]
  },
  {
   "cell_type": "code",
   "execution_count": null,
   "metadata": {},
   "outputs": [],
   "source": [
    "# No error is raised for the extra field\n",
    "transform = ln.Transform(name=\"Test\", extra_field=\"This field is not defined in the schema\")"
   ]
  },
  {
   "attachments": {},
   "cell_type": "markdown",
   "metadata": {
    "tags": []
   },
   "source": [
    "### Strict type checking for relationships"
   ]
  },
  {
   "attachments": {},
   "cell_type": "markdown",
   "metadata": {},
   "source": [
    "Differently from Pydantic, LaminDB enforces strict type checking for `Relationship` fields.\n",
    "\n",
    "Below is a simple example of Pydantic's lenient type checking for `Relationship` fields. Rather than enforcing the `Car` type in the `Wheel.car` field, it only enforces type-checking on the attributes of the input object."
   ]
  },
  {
   "cell_type": "code",
   "execution_count": null,
   "metadata": {},
   "outputs": [],
   "source": [
    "from sqlmodel import SQLModel, Field, Relationship\n",
    "from typing import Optional, List\n",
    "\n",
    "\n",
    "class Car(SQLModel, table=False):\n",
    "    id: str = Field(primary_key=True, default=None)\n",
    "    name: str\n",
    "\n",
    "    wheels: List[\"Wheel\"] = Relationship()\n",
    "\n",
    "\n",
    "class Wheel(SQLModel, table=False):\n",
    "    id: str = Field(primary_key=True, default=None)\n",
    "    name: str\n",
    "\n",
    "    car: Optional[\"Car\"] = Relationship()\n",
    "\n",
    "\n",
    "class Bird(SQLModel, table=False):\n",
    "    id: str = Field(primary_key=True, default=None)\n",
    "    name: str"
   ]
  },
  {
   "cell_type": "code",
   "execution_count": null,
   "metadata": {},
   "outputs": [],
   "source": [
    "# Pydantic does not raise a validation error for wrong type in the car field\n",
    "wheel = Wheel(name=\"Test Wheel\", car=Bird(name=\"Test\"))"
   ]
  },
  {
   "attachments": {},
   "cell_type": "markdown",
   "metadata": {},
   "source": [
    "LaminDB, on the other hand, enforces strict type checking for `Relationships`."
   ]
  },
  {
   "cell_type": "code",
   "execution_count": null,
   "metadata": {},
   "outputs": [],
   "source": [
    "with pytest.raises(TypeError) as e:\n",
    "    exception = e\n",
    "    run = lns.Run(name=\"Test Run\", transform=Bird(name=\"This is not a Transform\"))\n",
    "print(exception.exconly())"
   ]
  }
 ],
 "metadata": {
  "kernelspec": {
   "display_name": "Python 3 (ipykernel)",
   "language": "python",
   "name": "python3"
  },
  "language_info": {
   "codemirror_mode": {
    "name": "ipython",
    "version": 3
   },
   "file_extension": ".py",
   "mimetype": "text/x-python",
   "name": "python",
   "nbconvert_exporter": "python",
   "pygments_lexer": "ipython3",
   "version": "3.9.15"
  }
 },
 "nbformat": 4,
 "nbformat_minor": 4
}
