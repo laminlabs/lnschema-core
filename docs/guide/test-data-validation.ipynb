{
 "cells": [
  {
   "cell_type": "markdown",
   "metadata": {},
   "source": [
    "# Data Validation"
   ]
  },
  {
   "cell_type": "markdown",
   "metadata": {},
   "source": [
    "For more details and information about data validation, see the documentation of [lamindb](https://lamin.ai/docs/db/guide/data-validation)."
   ]
  },
  {
   "cell_type": "code",
   "execution_count": null,
   "metadata": {},
   "outputs": [],
   "source": [
    "import nbproject as nb\n",
    "from lnschema_core import DObject, Pipeline, Run, Storage, Usage\n",
    "from lndb_setup import settings\n",
    "from sqlmodel import Session, select\n",
    "from pydantic import ValidationError\n",
    "\n",
    "import pytest"
   ]
  },
  {
   "cell_type": "code",
   "execution_count": null,
   "metadata": {},
   "outputs": [],
   "source": [
    "# non-optional created_at field is correctly ignored (server-side autopopulation)\n",
    "pipeline = Pipeline()"
   ]
  },
  {
   "cell_type": "code",
   "execution_count": null,
   "metadata": {},
   "outputs": [],
   "source": [
    "# invalid type for created_at field is correctly raised\n",
    "with pytest.raises(ValidationError):\n",
    "    pipeline = Pipeline(created_at=\"invalid type\")"
   ]
  },
  {
   "cell_type": "code",
   "execution_count": null,
   "metadata": {},
   "outputs": [],
   "source": [
    "# complex type validation works correctly (no error raised for valid input)\n",
    "run = Run(name=\"Test Run\", pipeline=pipeline)"
   ]
  },
  {
   "cell_type": "code",
   "execution_count": null,
   "metadata": {},
   "outputs": [],
   "source": [
    "# complex type validation works correctly (ORM functionality is maintained)\n",
    "assert run.pipeline"
   ]
  },
  {
   "cell_type": "code",
   "execution_count": null,
   "metadata": {},
   "outputs": [],
   "source": [
    "# complex type validation works correctly (strict type checking for relationship fields)\n",
    "with pytest.raises(TypeError):\n",
    "    run = Run(name=\"Test Run\", pipeline=\"invalid pipeline\")"
   ]
  },
  {
   "cell_type": "code",
   "execution_count": null,
   "metadata": {},
   "outputs": [],
   "source": [
    "# dobject validation works correctly (missing field errors are raised even when dobject is instantiated with custom constructor)\n",
    "with pytest.raises(ValidationError):\n",
    "    dobject = DObject(name=\"no data objects\")"
   ]
  },
  {
   "cell_type": "code",
   "execution_count": null,
   "metadata": {},
   "outputs": [],
   "source": [
    "# dobject validation works correctly (no errors raised when dobject is conformantly instantiated with custom constructor)\n",
    "with Session(settings.instance.engine) as session:\n",
    "    results = session.exec(select(Storage)).all()\n",
    "    for store in results:\n",
    "        if store.root == settings.instance.storage.root.as_posix():\n",
    "            storage = store\n",
    "\n",
    "dobject = DObject(name=\"mydobject\", run_id=nb.meta.store.id, storage_id=storage.id)"
   ]
  },
  {
   "cell_type": "code",
   "execution_count": null,
   "metadata": {},
   "outputs": [],
   "source": [
    "# enumeration validation works correctly (no errors raised when a valid enumeration member is passed)\n",
    "assert Usage(type=\"ingest\", dobject_id=dobject.id)"
   ]
  },
  {
   "cell_type": "code",
   "execution_count": null,
   "metadata": {},
   "outputs": [],
   "source": [
    "# categorical validation works correctly (error raised when invalid enumeration member is passed)\n",
    "with pytest.raises(ValidationError):\n",
    "    Usage(type=\"invalid member\", dobject_id=dobject.id)"
   ]
  }
 ],
 "metadata": {
  "kernelspec": {
   "display_name": "Python 3.9.12 ('base1')",
   "language": "python",
   "name": "python3"
  },
  "language_info": {
   "codemirror_mode": {
    "name": "ipython",
    "version": 3
   },
   "file_extension": ".py",
   "mimetype": "text/x-python",
   "name": "python",
   "nbconvert_exporter": "python",
   "pygments_lexer": "ipython3",
   "version": "3.9.12"
  }
 },
 "nbformat": 4,
 "nbformat_minor": 4
}
