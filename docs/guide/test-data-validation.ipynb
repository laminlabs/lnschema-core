{
 "cells": [
  {
   "cell_type": "markdown",
   "metadata": {},
   "source": [
    "# Data Validation"
   ]
  },
  {
   "cell_type": "markdown",
   "metadata": {},
   "source": [
    "For more details and information about data validation, see the documentation of [lamindb](https://lamin.ai/docs/db/guide/data-validation)."
   ]
  },
  {
   "cell_type": "code",
   "execution_count": null,
   "metadata": {},
   "outputs": [],
   "source": [
    "import nbproject as nb\n",
    "from lnschema_core import DObject, Pipeline, Run, Storage, Usage\n",
    "from lnschema_core.dev.sqlmodel import SQLModelPrefix\n",
    "from lndb import settings\n",
    "from sqlmodel import Session, select, Relationship, Field, ForeignKeyConstraint\n",
    "from typing import Optional\n",
    "from pydantic import ValidationError\n",
    "\n",
    "import pytest"
   ]
  },
  {
   "cell_type": "code",
   "execution_count": null,
   "metadata": {},
   "outputs": [],
   "source": [
    "# non-optional created_at field is correctly ignored (server-side autopopulation)\n",
    "pipeline = Pipeline()"
   ]
  },
  {
   "cell_type": "code",
   "execution_count": null,
   "metadata": {},
   "outputs": [],
   "source": [
    "# invalid type for created_at field is correctly raised\n",
    "with pytest.raises(ValidationError):\n",
    "    pipeline = Pipeline(created_at=\"invalid type\")"
   ]
  },
  {
   "cell_type": "code",
   "execution_count": null,
   "metadata": {},
   "outputs": [],
   "source": [
    "# relationship validation works correctly (no error raised for valid input)\n",
    "run = Run(name=\"Test Run\", pipeline=pipeline)"
   ]
  },
  {
   "cell_type": "code",
   "execution_count": null,
   "metadata": {},
   "outputs": [],
   "source": [
    "# complex type validation works correctly (ORM functionality is maintained)\n",
    "assert run.pipeline"
   ]
  },
  {
   "cell_type": "code",
   "execution_count": null,
   "metadata": {},
   "outputs": [],
   "source": [
    "# relationship validation works correctly (strict type checking, non-model)\n",
    "with pytest.raises(TypeError):\n",
    "    run = Run(name=\"Test Run\", pipeline=\"invalid pipeline\")"
   ]
  },
  {
   "cell_type": "code",
   "execution_count": null,
   "metadata": {},
   "outputs": [],
   "source": [
    "# relationship validation works correctly (strict type checking, valid model)\n",
    "with pytest.raises(TypeError):\n",
    "    dobject = DObject(source=Pipeline())"
   ]
  },
  {
   "cell_type": "code",
   "execution_count": null,
   "metadata": {},
   "outputs": [],
   "source": [
    "# relationship validation works correctly (strict type checking, resolved ForwardRef)\n",
    "class DObjectRel(SQLModelPrefix, table=True):\n",
    "    id: str = Field(primary_key=True, default=None)\n",
    "    dobject_id: Optional[str] = Field(foreign_key=\"core.dobject.id\", index=True)\n",
    "\n",
    "    dobject: Optional[\"DObject\"] = Relationship()\n",
    "\n",
    "\n",
    "dobject = DObject(name=\"mydobject\", run_id=\"raf\", storage_id=\"g4s\")\n",
    "dobject_real = DObjectRel(dobject=dobject)"
   ]
  },
  {
   "cell_type": "code",
   "execution_count": null,
   "metadata": {},
   "outputs": [],
   "source": [
    "# auto-population of required fk constraints works correctly\n",
    "class DObjectRelFK(SQLModelPrefix, table=True):\n",
    "    id: str = Field(primary_key=True, default=None)\n",
    "    dobject_id: str = Field(foreign_key=\"core.dobject.id\", index=True)\n",
    "\n",
    "    dobject: \"DObject\" = Relationship()\n",
    "\n",
    "\n",
    "dobject = DObject(name=\"mydobject\", run_id=\"raf\", storage_id=\"g4s\")\n",
    "dobject_rel = DObjectRelFK(dobject=dobject)\n",
    "\n",
    "# auto-population of required fk constraints works correctly (composite fk)\n",
    "class PipelineRelFK(SQLModelPrefix, table=True):\n",
    "    __table_args__ = (ForeignKeyConstraint([\"pipeline_id\", \"pipeline_v\"], [\"core.pipeline.id\", \"core.pipeline.v\"]),)\n",
    "    id: str = Field(primary_key=True, default=None)\n",
    "    pipeline_id: str = Field(index=True)\n",
    "    pipeline_v: str = Field(index=True)\n",
    "\n",
    "    pipeline: \"Pipeline\" = Relationship()\n",
    "\n",
    "\n",
    "pipeline = Pipeline(name=\"mypipeline\")\n",
    "pipeline_rel = PipelineRelFK(pipeline=pipeline)"
   ]
  },
  {
   "cell_type": "code",
   "execution_count": null,
   "metadata": {},
   "outputs": [],
   "source": [
    "# dobject validation works correctly (missing field errors are raised even when dobject is instantiated with custom constructor)\n",
    "with pytest.raises(ValidationError):\n",
    "    dobject = DObject(name=\"no data objects\")"
   ]
  },
  {
   "cell_type": "code",
   "execution_count": null,
   "metadata": {},
   "outputs": [],
   "source": [
    "# dobject validation works correctly (no errors raised when dobject is conformantly instantiated with custom constructor)\n",
    "dobject = DObject(name=\"mydobject\", run_id=nb.meta.store.id, storage_id=\"123\")"
   ]
  },
  {
   "cell_type": "code",
   "execution_count": null,
   "metadata": {},
   "outputs": [],
   "source": [
    "# enumeration validation works correctly (no errors raised when a valid enumeration member is passed)\n",
    "assert Usage(type=\"ingest\", dobject_id=dobject.id)"
   ]
  },
  {
   "cell_type": "code",
   "execution_count": null,
   "metadata": {},
   "outputs": [],
   "source": [
    "# categorical validation works correctly (error raised when invalid enumeration member is passed)\n",
    "with pytest.raises(ValidationError):\n",
    "    Usage(type=\"invalid member\", dobject_id=dobject.id)"
   ]
  }
 ],
 "metadata": {
  "kernelspec": {
   "display_name": "Python 3.9.12 ('base1')",
   "language": "python",
   "name": "python3"
  },
  "language_info": {
   "codemirror_mode": {
    "name": "ipython",
    "version": 3
   },
   "file_extension": ".py",
   "mimetype": "text/x-python",
   "name": "python",
   "nbconvert_exporter": "python",
   "pygments_lexer": "ipython3",
   "version": "3.9.12"
  }
 },
 "nbformat": 4,
 "nbformat_minor": 4
}
