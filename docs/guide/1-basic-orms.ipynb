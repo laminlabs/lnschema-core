{
 "cells": [
  {
   "attachments": {},
   "cell_type": "markdown",
   "id": "2ee23aa0-22e1-45ae-8fe4-392702f95de5",
   "metadata": {},
   "source": [
    "# Basic ORM instantiation"
   ]
  },
  {
   "cell_type": "code",
   "execution_count": null,
   "id": "9667c97e-8f2f-4fc9-9a97-9eed0361919d",
   "metadata": {},
   "outputs": [],
   "source": [
    "from lnschema_core import (\n",
    "    DObject,\n",
    "    Run,\n",
    "    Notebook,\n",
    "    User,\n",
    "    Storage,\n",
    ")"
   ]
  },
  {
   "attachments": {},
   "cell_type": "markdown",
   "id": "c9c47fdf",
   "metadata": {
    "tags": []
   },
   "source": [
    "## Create a DObject record from fields"
   ]
  },
  {
   "cell_type": "code",
   "execution_count": null,
   "id": "84da28ef-0b63-451f-a940-6c41f24b87e4",
   "metadata": {},
   "outputs": [],
   "source": [
    "dobject = DObject(name=\"mydobject\", source_id=\"vaf\", storage_id=\"g4s\")\n",
    "\n",
    "dobject"
   ]
  },
  {
   "cell_type": "code",
   "execution_count": null,
   "id": "7b47e5fe",
   "metadata": {},
   "outputs": [],
   "source": [
    "assert dobject.id is not None"
   ]
  },
  {
   "cell_type": "markdown",
   "id": "96f1e83c",
   "metadata": {},
   "source": [
    "## Run, Notebook, User, Usage, Storage"
   ]
  },
  {
   "cell_type": "code",
   "execution_count": null,
   "id": "7efc8406",
   "metadata": {},
   "outputs": [],
   "source": [
    "Run()"
   ]
  },
  {
   "cell_type": "code",
   "execution_count": null,
   "id": "89141bf7-4d8c-4baa-a15d-a76f829097e0",
   "metadata": {},
   "outputs": [],
   "source": [
    "Notebook(name=\"Tables\")"
   ]
  },
  {
   "cell_type": "code",
   "execution_count": null,
   "id": "4f06df7f-a34f-4832-a6b7-238c4a72382e",
   "metadata": {},
   "outputs": [],
   "source": [
    "User(id=\"aev\", email=\"test@gmail.com\", handle=\"test\")"
   ]
  }
 ],
 "metadata": {
  "kernelspec": {
   "display_name": "py39",
   "language": "python",
   "name": "python3"
  },
  "language_info": {
   "codemirror_mode": {
    "name": "ipython",
    "version": 3
   },
   "file_extension": ".py",
   "mimetype": "text/x-python",
   "name": "python",
   "nbconvert_exporter": "python",
   "pygments_lexer": "ipython3",
   "version": "3.9.15"
  },
  "nbproject": {
   "id": "EuEuJ9mAoDQj",
   "parent": null,
   "pypackage": null,
   "time_init": "2023-03-15T05:58:03.555765+00:00",
   "user_handle": "testuser2",
   "user_id": "bKeW4T6E",
   "user_name": "Test User2",
   "version": "0"
  },
  "vscode": {
   "interpreter": {
    "hash": "61b4062b24dfb1010f420dad5aa3bd73a4d2af47d0ec44eafec465a35a9d7239"
   }
  }
 },
 "nbformat": 4,
 "nbformat_minor": 5
}
