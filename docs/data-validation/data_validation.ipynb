{
 "cells": [
  {
   "cell_type": "markdown",
   "metadata": {
    "tags": []
   },
   "source": [
    "# Data Validation with Pydantic: Base Model Extension"
   ]
  },
  {
   "cell_type": "markdown",
   "metadata": {},
   "source": [
    "## Generic Example"
   ]
  },
  {
   "cell_type": "code",
   "execution_count": null,
   "metadata": {},
   "outputs": [],
   "source": [
    "from sqlmodel import SQLModel, Field\n",
    "from pydantic import create_model\n",
    "from typing import Optional\n",
    "\n",
    "\n",
    "def validate_with_pydantic(model):\n",
    "    annotations = model.__annotations__\n",
    "    kwargs = model.__dict__\n",
    "    pydantic_annotations = {}\n",
    "    for field, ann in annotations.items():\n",
    "        if ann.__module__ == \"typing\":\n",
    "            if getattr(ann, \"__origin__\", None) is None and type(None) in ann.__args__:\n",
    "                pydantic_annotations[field] = (ann, None)\n",
    "        else:\n",
    "            pydantic_annotations[field] = (ann, ...)\n",
    "    validation_model = create_model(model.__class__.__name__, **pydantic_annotations)\n",
    "    validation_model.validate(kwargs)\n",
    "    return\n",
    "\n",
    "\n",
    "class SQLModelBase(SQLModel):\n",
    "    def __init__(self, **kwargs):\n",
    "        super().__init__(**kwargs)\n",
    "        validate_with_pydantic(self)\n",
    "\n",
    "\n",
    "class Car(SQLModelBase, table=True):\n",
    "    id: Optional[int] = Field(default=None, primary_key=True)\n",
    "    name: str\n",
    "    year: int"
   ]
  },
  {
   "cell_type": "code",
   "execution_count": null,
   "metadata": {},
   "outputs": [],
   "source": [
    "# Data validation works as expected (error raised for missing field)\n",
    "car = Car()"
   ]
  },
  {
   "cell_type": "code",
   "execution_count": null,
   "metadata": {},
   "outputs": [],
   "source": [
    "# Data validation works as expected (no errors raised)\n",
    "car = Car(name=\"Test Car\", year=1995)\n",
    "car"
   ]
  },
  {
   "cell_type": "markdown",
   "metadata": {},
   "source": [
    "## Lamin Example"
   ]
  },
  {
   "cell_type": "code",
   "execution_count": null,
   "metadata": {},
   "outputs": [],
   "source": [
    "import lamindb.schema as lns"
   ]
  },
  {
   "cell_type": "code",
   "execution_count": null,
   "metadata": {},
   "outputs": [],
   "source": [
    "??lns.dev.sqlmodel.SQLModelModule"
   ]
  },
  {
   "cell_type": "code",
   "execution_count": null,
   "metadata": {},
   "outputs": [],
   "source": [
    "??lns.dev.sqlmodel.SQLModelPrefix"
   ]
  },
  {
   "cell_type": "code",
   "execution_count": null,
   "metadata": {},
   "outputs": [],
   "source": [
    "# Data validation works as expected (error raised for missing field)\n",
    "pipeline = lns.Pipeline()"
   ]
  },
  {
   "cell_type": "code",
   "execution_count": null,
   "metadata": {},
   "outputs": [],
   "source": [
    "# Data validation works as expected (no errors raised)\n",
    "\n",
    "from datetime import datetime\n",
    "\n",
    "pipeline = lns.Pipeline(created_at=datetime.now())\n",
    "pipeline"
   ]
  },
  {
   "cell_type": "code",
   "execution_count": null,
   "metadata": {},
   "outputs": [],
   "source": [
    "# Data validation does not work for complex type (familiar \"ForwardRef\" error)\n",
    "run = lns.Run(name=\"Test Run\", pipeline=pipeline)\n",
    "run"
   ]
  }
 ],
 "metadata": {
  "kernelspec": {
   "display_name": "lamin-dev",
   "language": "python",
   "name": "lamin-dev"
  },
  "language_info": {
   "codemirror_mode": {
    "name": "ipython",
    "version": 3
   },
   "file_extension": ".py",
   "mimetype": "text/x-python",
   "name": "python",
   "nbconvert_exporter": "python",
   "pygments_lexer": "ipython3",
   "version": "3.9.12"
  }
 },
 "nbformat": 4,
 "nbformat_minor": 4
}
