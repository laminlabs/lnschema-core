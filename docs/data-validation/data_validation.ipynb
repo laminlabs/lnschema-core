{
 "cells": [
  {
   "cell_type": "markdown",
   "metadata": {
    "tags": []
   },
   "source": [
    "# Data Validation with Pydantic: Base Model Extension (\"ForwardRef\" resolution fixed)"
   ]
  },
  {
   "cell_type": "markdown",
   "metadata": {},
   "source": [
    "## Lamin Example"
   ]
  },
  {
   "cell_type": "code",
   "execution_count": null,
   "metadata": {},
   "outputs": [],
   "source": [
    "import lamindb.schema as lns"
   ]
  },
  {
   "cell_type": "code",
   "execution_count": null,
   "metadata": {},
   "outputs": [],
   "source": [
    "??lns.dev.sqlmodel.SQLModelModule"
   ]
  },
  {
   "cell_type": "code",
   "execution_count": null,
   "metadata": {},
   "outputs": [],
   "source": [
    "??lns.dev.sqlmodel.SQLModelPrefix"
   ]
  },
  {
   "cell_type": "code",
   "execution_count": null,
   "metadata": {},
   "outputs": [],
   "source": [
    "# Data validation works as expected (error raised for missing field)\n",
    "pipeline = lns.Pipeline()"
   ]
  },
  {
   "cell_type": "code",
   "execution_count": null,
   "metadata": {},
   "outputs": [],
   "source": [
    "# Data validation works as expected (no errors raised)\n",
    "\n",
    "from datetime import datetime\n",
    "\n",
    "pipeline = lns.Pipeline(created_at=datetime.now())\n",
    "pipeline"
   ]
  },
  {
   "cell_type": "code",
   "execution_count": null,
   "metadata": {},
   "outputs": [],
   "source": [
    "# Data validation now works for complex types!\n",
    "run = lns.Run(name=\"Test Run\", pipeline=\"invalid pipeline\", created_at=datetime.now())\n",
    "run.pipeline"
   ]
  }
 ],
 "metadata": {
  "kernelspec": {
   "display_name": "lamin-dev",
   "language": "python",
   "name": "lamin-dev"
  },
  "language_info": {
   "codemirror_mode": {
    "name": "ipython",
    "version": 3
   },
   "file_extension": ".py",
   "mimetype": "text/x-python",
   "name": "python",
   "nbconvert_exporter": "python",
   "pygments_lexer": "ipython3",
   "version": "3.9.12"
  }
 },
 "nbformat": 4,
 "nbformat_minor": 4
}
