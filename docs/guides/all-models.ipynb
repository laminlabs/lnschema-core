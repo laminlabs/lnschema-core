{
 "cells": [
  {
   "cell_type": "markdown",
   "id": "2ee23aa0-22e1-45ae-8fe4-392702f95de5",
   "metadata": {},
   "source": [
    "# All models"
   ]
  },
  {
   "cell_type": "code",
   "execution_count": null,
   "id": "9667c97e-8f2f-4fc9-9a97-9eed0361919d",
   "metadata": {},
   "outputs": [],
   "source": [
    "from lamindb_schema.provenance import (\n",
    "    schema_version,\n",
    "    dobject,\n",
    "    jupynb,\n",
    "    user,\n",
    "    track_do,\n",
    "    track_do_type,\n",
    ")"
   ]
  },
  {
   "cell_type": "code",
   "execution_count": null,
   "id": "c7d0beb9",
   "metadata": {},
   "outputs": [],
   "source": [
    "schema_version()"
   ]
  },
  {
   "cell_type": "code",
   "execution_count": null,
   "id": "f62cc02e-c0a9-4f55-b806-ec851659d56d",
   "metadata": {},
   "outputs": [],
   "source": [
    "dobject()"
   ]
  },
  {
   "cell_type": "code",
   "execution_count": null,
   "id": "89141bf7-4d8c-4baa-a15d-a76f829097e0",
   "metadata": {},
   "outputs": [],
   "source": [
    "jupynb()"
   ]
  },
  {
   "cell_type": "code",
   "execution_count": null,
   "id": "4f06df7f-a34f-4832-a6b7-238c4a72382e",
   "metadata": {},
   "outputs": [],
   "source": [
    "user()"
   ]
  },
  {
   "cell_type": "code",
   "execution_count": null,
   "id": "86ab44aa-0c5f-4b67-9196-fda8e0b6bb3b",
   "metadata": {},
   "outputs": [],
   "source": [
    "track_do()"
   ]
  },
  {
   "cell_type": "code",
   "execution_count": null,
   "id": "7da7ddde-463f-44d3-9733-f447ee9053b1",
   "metadata": {},
   "outputs": [],
   "source": [
    "track_do_type"
   ]
  }
 ],
 "metadata": {
  "kernelspec": {
   "display_name": "Python 3 (ipykernel)",
   "language": "python",
   "name": "python3"
  },
  "language_info": {
   "codemirror_mode": {
    "name": "ipython",
    "version": 3
   },
   "file_extension": ".py",
   "mimetype": "text/x-python",
   "name": "python",
   "nbconvert_exporter": "python",
   "pygments_lexer": "ipython3",
   "version": "3.9.12"
  }
 },
 "nbformat": 4,
 "nbformat_minor": 5
}
